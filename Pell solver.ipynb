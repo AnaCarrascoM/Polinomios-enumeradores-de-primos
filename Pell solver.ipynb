{
 "cells": [
  {
   "cell_type": "markdown",
   "id": "e312ad51",
   "metadata": {},
   "source": [
    "Solución fundamental de $x^2-dy^2=1$, para $d\\neq \\square$"
   ]
  },
  {
   "cell_type": "code",
   "execution_count": 2,
   "id": "a5af3af7",
   "metadata": {},
   "outputs": [],
   "source": [
    "def convergent_fundamentalsol(d):\n",
    "    \n",
    "    if d.is_square()==False:\n",
    "    \n",
    "        Qd.<sqrtd>=QuadraticField(d)\n",
    "        cfrac=continued_fraction(sqrtd)\n",
    "        per=cfrac.period()\n",
    "        lperiod=len(per)\n",
    "    \n",
    "        if mod(lperiod,2)==0:\n",
    "        \n",
    "            return cfrac.numerator(lperiod-1), cfrac.denominator(lperiod-1)\n",
    "    \n",
    "        else:\n",
    "        \n",
    "            return cfrac.numerator(2*lperiod-1), cfrac.denominator(2*lperiod-1)\n",
    "    else:\n",
    "        print(\"Error: d es cuadrado\")"
   ]
  },
  {
   "cell_type": "code",
   "execution_count": 3,
   "id": "8ea8794d",
   "metadata": {},
   "outputs": [
    {
     "name": "stdout",
     "output_type": "stream",
     "text": [
      "Error: d es cuadrado\n"
     ]
    }
   ],
   "source": [
    "convergent_fundamentalsol(64)"
   ]
  },
  {
   "cell_type": "code",
   "execution_count": 4,
   "id": "032c73fa",
   "metadata": {
    "scrolled": true
   },
   "outputs": [
    {
     "data": {
      "text/plain": [
       "(17, 3)"
      ]
     },
     "execution_count": 4,
     "metadata": {},
     "output_type": "execute_result"
    }
   ],
   "source": [
    "convergent_fundamentalsol(32)"
   ]
  },
  {
   "cell_type": "code",
   "execution_count": 5,
   "id": "468b3b1b",
   "metadata": {},
   "outputs": [],
   "source": [
    "e=32\n",
    "rho=32^3*(e+2)"
   ]
  },
  {
   "cell_type": "code",
   "execution_count": 6,
   "id": "a83c09e7",
   "metadata": {
    "scrolled": true
   },
   "outputs": [
    {
     "data": {
      "text/plain": [
       "(8340353015645794683299462704812268882126086134656108363777,\n",
       " 7901690358098896161685556879749949186326380713409290913)"
      ]
     },
     "execution_count": 6,
     "metadata": {},
     "output_type": "execute_result"
    }
   ],
   "source": [
    "convergent_fundamentalsol(rho)"
   ]
  },
  {
   "cell_type": "code",
   "execution_count": 7,
   "id": "6b927bad",
   "metadata": {},
   "outputs": [],
   "source": [
    "a=7901690358098896161685556879749949186326380713409290912\n",
    "theta=32*a*(a^2-1)"
   ]
  },
  {
   "cell_type": "code",
   "execution_count": null,
   "id": "82966390",
   "metadata": {},
   "outputs": [],
   "source": [
    "convergent_fundamentalsol(theta) # RIP point."
   ]
  },
  {
   "cell_type": "markdown",
   "id": "d055dcc3",
   "metadata": {},
   "source": [
    "Ejemplo Sección 4.1."
   ]
  },
  {
   "cell_type": "code",
   "execution_count": 8,
   "id": "df770965",
   "metadata": {},
   "outputs": [
    {
     "data": {
      "text/html": [
       "<html>\\(\\displaystyle \\verb|El|\\verb| |\\verb|periodo|\\verb| |\\verb|de|\\verb| |\\verb|la|\\verb| |\\verb|fraccion|\\verb| |\\verb|continua|\\verb| |\\verb|de| \\sqrt{3} \\verb| |\\verb|es| \\left(1, 2\\right) \\verb|.|\\verb| |\\verb|Su|\\verb| |\\verb|longitud|\\verb| |\\verb|es|\\verb| |\\verb|l=| 2\\)</html>"
      ],
      "text/latex": [
       "$\\displaystyle \\verb|El|\\verb| |\\verb|periodo|\\verb| |\\verb|de|\\verb| |\\verb|la|\\verb| |\\verb|fraccion|\\verb| |\\verb|continua|\\verb| |\\verb|de| \\sqrt{3} \\verb| |\\verb|es| \\left(1, 2\\right) \\verb|.|\\verb| |\\verb|Su|\\verb| |\\verb|longitud|\\verb| |\\verb|es|\\verb| |\\verb|l=| 2$"
      ],
      "text/plain": [
       "'El periodo de la fraccion continua de ' sqrt(3) ' es ' (1, 2) '. Su longitud es l= ' 2"
      ]
     },
     "metadata": {},
     "output_type": "display_data"
    }
   ],
   "source": [
    "d=3\n",
    "Qd.<sqrtd>=QuadraticField(d)\n",
    "per=continued_fraction(sqrtd).period()\n",
    "lper=len(per)\n",
    "show(\"El periodo de la fraccion continua de \", sqrt(d), \" es \", per, \". Su longitud es l= \", lper)"
   ]
  },
  {
   "cell_type": "code",
   "execution_count": null,
   "id": "f02da4b0",
   "metadata": {},
   "outputs": [],
   "source": []
  }
 ],
 "metadata": {
  "kernelspec": {
   "display_name": "SageMath 9.7",
   "language": "sage",
   "name": "sagemath-9.7"
  },
  "language_info": {
   "codemirror_mode": {
    "name": "ipython",
    "version": 3
   },
   "file_extension": ".py",
   "mimetype": "text/x-python",
   "name": "python",
   "nbconvert_exporter": "python",
   "pygments_lexer": "ipython3",
   "version": "3.10.5"
  }
 },
 "nbformat": 4,
 "nbformat_minor": 5
}
